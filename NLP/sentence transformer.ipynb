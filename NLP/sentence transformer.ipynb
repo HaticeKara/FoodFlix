{
 "cells": [
  {
   "cell_type": "code",
   "execution_count": 2,
   "outputs": [
    {
     "name": "stdout",
     "output_type": "stream",
     "text": [
      "Collecting sentence_transformers\r\n",
      "  Downloading sentence-transformers-1.1.0.tar.gz (78 kB)\r\n",
      "\u001B[K     |████████████████████████████████| 78 kB 4.9 MB/s eta 0:00:011\r\n",
      "\u001B[?25hCollecting transformers<5.0.0,>=3.1.0\r\n",
      "  Downloading transformers-4.5.1-py3-none-any.whl (2.1 MB)\r\n",
      "\u001B[K     |████████████████████████████████| 2.1 MB 9.2 MB/s eta 0:00:01\r\n",
      "\u001B[?25hRequirement already satisfied: tqdm in /home/apprenant/.local/lib/python3.8/site-packages (from sentence_transformers) (4.60.0)\r\n",
      "Collecting torch>=1.6.0\r\n",
      "  Downloading torch-1.8.1-cp38-cp38-manylinux1_x86_64.whl (804.1 MB)\r\n",
      "\u001B[K     |████████████████████████████████| 804.1 MB 9.7 kB/s  eta 0:00:01     |██████████████████████████      | 655.3 MB 55.5 MB/s eta 0:00:03\r\n",
      "\u001B[?25hRequirement already satisfied: numpy in /home/apprenant/.local/lib/python3.8/site-packages (from sentence_transformers) (1.20.1)\r\n",
      "Requirement already satisfied: scikit-learn in /home/apprenant/.local/lib/python3.8/site-packages (from sentence_transformers) (0.24.1)\r\n",
      "Requirement already satisfied: scipy in /home/apprenant/.local/lib/python3.8/site-packages (from sentence_transformers) (1.6.2)\r\n",
      "Requirement already satisfied: nltk in /home/apprenant/.local/lib/python3.8/site-packages (from sentence_transformers) (3.6.2)\r\n",
      "Collecting sentencepiece\r\n",
      "  Downloading sentencepiece-0.1.95-cp38-cp38-manylinux2014_x86_64.whl (1.2 MB)\r\n",
      "\u001B[K     |████████████████████████████████| 1.2 MB 30.4 MB/s eta 0:00:01\r\n",
      "\u001B[?25hCollecting tokenizers<0.11,>=0.10.1\r\n",
      "  Downloading tokenizers-0.10.2-cp38-cp38-manylinux2010_x86_64.whl (3.3 MB)\r\n",
      "\u001B[K     |████████████████████████████████| 3.3 MB 23.5 MB/s eta 0:00:01\r\n",
      "\u001B[?25hRequirement already satisfied: packaging in /home/apprenant/anaconda3/lib/python3.8/site-packages (from transformers<5.0.0,>=3.1.0->sentence_transformers) (20.4)\r\n",
      "Requirement already satisfied: requests in /home/apprenant/anaconda3/lib/python3.8/site-packages (from transformers<5.0.0,>=3.1.0->sentence_transformers) (2.24.0)\r\n",
      "Requirement already satisfied: regex!=2019.12.17 in /home/apprenant/.local/lib/python3.8/site-packages (from transformers<5.0.0,>=3.1.0->sentence_transformers) (2021.4.4)\r\n",
      "Requirement already satisfied: filelock in /home/apprenant/anaconda3/lib/python3.8/site-packages (from transformers<5.0.0,>=3.1.0->sentence_transformers) (3.0.12)\r\n",
      "Collecting sacremoses\r\n",
      "  Downloading sacremoses-0.0.45-py3-none-any.whl (895 kB)\r\n",
      "\u001B[K     |████████████████████████████████| 895 kB 29.5 MB/s eta 0:00:01\r\n",
      "\u001B[?25hRequirement already satisfied: typing-extensions in /home/apprenant/anaconda3/lib/python3.8/site-packages (from torch>=1.6.0->sentence_transformers) (3.7.4.3)\r\n",
      "Requirement already satisfied: joblib>=0.11 in /home/apprenant/.local/lib/python3.8/site-packages (from scikit-learn->sentence_transformers) (1.0.1)\r\n",
      "Requirement already satisfied: threadpoolctl>=2.0.0 in /home/apprenant/.local/lib/python3.8/site-packages (from scikit-learn->sentence_transformers) (2.1.0)\r\n",
      "Requirement already satisfied: click in /home/apprenant/anaconda3/lib/python3.8/site-packages (from nltk->sentence_transformers) (7.1.2)\r\n",
      "Requirement already satisfied: six in /home/apprenant/anaconda3/lib/python3.8/site-packages (from packaging->transformers<5.0.0,>=3.1.0->sentence_transformers) (1.15.0)\r\n",
      "Requirement already satisfied: pyparsing>=2.0.2 in /home/apprenant/anaconda3/lib/python3.8/site-packages (from packaging->transformers<5.0.0,>=3.1.0->sentence_transformers) (2.4.7)\r\n",
      "Requirement already satisfied: certifi>=2017.4.17 in /home/apprenant/anaconda3/lib/python3.8/site-packages (from requests->transformers<5.0.0,>=3.1.0->sentence_transformers) (2020.6.20)\r\n",
      "Requirement already satisfied: chardet<4,>=3.0.2 in /home/apprenant/anaconda3/lib/python3.8/site-packages (from requests->transformers<5.0.0,>=3.1.0->sentence_transformers) (3.0.4)\r\n",
      "Requirement already satisfied: idna<3,>=2.5 in /home/apprenant/anaconda3/lib/python3.8/site-packages (from requests->transformers<5.0.0,>=3.1.0->sentence_transformers) (2.10)\r\n",
      "Requirement already satisfied: urllib3!=1.25.0,!=1.25.1,<1.26,>=1.21.1 in /home/apprenant/anaconda3/lib/python3.8/site-packages (from requests->transformers<5.0.0,>=3.1.0->sentence_transformers) (1.25.11)\r\n",
      "Building wheels for collected packages: sentence-transformers\r\n",
      "  Building wheel for sentence-transformers (setup.py) ... \u001B[?25l-\b \b\\\b \bdone\r\n",
      "\u001B[?25h  Created wheel for sentence-transformers: filename=sentence_transformers-1.1.0-py3-none-any.whl size=119617 sha256=d0aafa5dc2e1376270eaf949c816bace92af74d2cd500f2ded080989882185f6\r\n",
      "  Stored in directory: /home/apprenant/.cache/pip/wheels/f8/78/10/c076a6c3bed946c9ffe7476bf5ac8c3e0edb76b93471ee3cdf\r\n",
      "Successfully built sentence-transformers\r\n",
      "Installing collected packages: tokenizers, sacremoses, transformers, torch, sentencepiece, sentence-transformers\r\n",
      "Successfully installed sacremoses-0.0.45 sentence-transformers-1.1.0 sentencepiece-0.1.95 tokenizers-0.10.2 torch-1.8.1 transformers-4.5.1\r\n"
     ]
    }
   ],
   "source": [
    "!pip install sentence_transformers"
   ],
   "metadata": {
    "collapsed": false,
    "pycharm": {
     "name": "#%%\n"
    }
   }
  },
  {
   "cell_type": "code",
   "execution_count": 6,
   "outputs": [
    {
     "name": "stdout",
     "output_type": "stream",
     "text": [
      "(18.687616, 'sentences are passed as a list of string')\n",
      "la phrase la plus ressemblante est:  sentences are passed as a list of string\n"
     ]
    }
   ],
   "source": [
    "from sentence_transformers import SentenceTransformer, models\n",
    "from sklearn.metrics.pairwise import linear_kernel\n",
    "\n",
    "model= SentenceTransformer('paraphrase-distilroberta-base-v1')\n",
    "sentence= ['This frame work generates embeddings for each input sentence']\n",
    "sentences= ['sentences are passed as a list of string', 'The quick brown fox jup over th lazy dog',\n",
    "            'this is a tex for testing ']\n",
    "sentence_embeddings=model.encode(sentences)\n",
    "sentence_emb=model.encode(sentence)\n",
    "\n",
    "\n",
    "cosine_similarities=linear_kernel(sentence_emb,sentence_embeddings)\n",
    "results={}\n",
    "similar_indices=cosine_similarities[0].argsort()[:-10:-1]\n",
    "results=[(cosine_similarities[0][i],sentences[i]) for i in similar_indices]\n",
    "print(results[0])\n",
    "\n",
    "print(\"la phrase la plus ressemblante est: \", results[0][1])\n"
   ],
   "metadata": {
    "collapsed": false,
    "pycharm": {
     "name": "#%%\n"
    }
   }
  }
 ],
 "metadata": {
  "kernelspec": {
   "display_name": "Python 3",
   "language": "python",
   "name": "python3"
  },
  "language_info": {
   "codemirror_mode": {
    "name": "ipython",
    "version": 2
   },
   "file_extension": ".py",
   "mimetype": "text/x-python",
   "name": "python",
   "nbconvert_exporter": "python",
   "pygments_lexer": "ipython2",
   "version": "2.7.6"
  }
 },
 "nbformat": 4,
 "nbformat_minor": 0
}